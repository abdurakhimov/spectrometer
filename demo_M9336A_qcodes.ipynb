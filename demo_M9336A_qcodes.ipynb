{
 "cells": [
  {
   "cell_type": "markdown",
   "metadata": {},
   "source": [
    "# Demo Code of Keysight AWG M9336A"
   ]
  },
  {
   "cell_type": "code",
   "execution_count": 1,
   "metadata": {},
   "outputs": [],
   "source": [
    "from qcodes.instrument_drivers.QSD.WaveformGenerator import WaveformGenerator as wfg\n",
    "from qcodes.instrument_drivers.Keysight.M9336A import M9336A\n",
    "import matplotlib.pyplot as plt\n",
    "import numpy as np"
   ]
  },
  {
   "cell_type": "code",
   "execution_count": 2,
   "metadata": {},
   "outputs": [
    {
     "name": "stdout",
     "output_type": "stream",
     "text": [
      "Initializing ...\n",
      "True\n",
      "Initialization complete.\n"
     ]
    }
   ],
   "source": [
    "deviceResourceString = 'PXI16::0::0::INSTR'\n",
    "awg = M9336A('awg', deviceResourceString)"
   ]
  },
  {
   "cell_type": "markdown",
   "metadata": {},
   "source": [
    "Create waveform"
   ]
  },
  {
   "cell_type": "code",
   "execution_count": 3,
   "metadata": {},
   "outputs": [
    {
     "data": {
      "image/png": "[encoded data removed]",
      "text/plain": [
       "<matplotlib.figure.Figure at 0x6b5c828>"
      ]
     },
     "metadata": {},
     "output_type": "display_data"
    }
   ],
   "source": [
    "SR = 1.28e9 # sample rate\n",
    "pulse_amplitude = 1\n",
    "\n",
    "waveform = wfg.combine(wfg.delay(150e-9,SR),\n",
    "                       wfg.pulse(pulse_amplitude,100e-9,SR),\n",
    "                       wfg.delay(100e-9,SR),\n",
    "                       wfg.pulse(pulse_amplitude,100e-9,SR),\n",
    "                       wfg.delay(100e-9,SR),\n",
    "                       wfg.pulse(pulse_amplitude,100e-9,SR),\n",
    "                       wfg.delay(100e-9,SR),\n",
    "                       wfg.pulse(pulse_amplitude,100e-9,SR),\n",
    "                       wfg.delay(400e-9, SR))\n",
    "\n",
    "marker_gate = wfg.combine(wfg.delay(50e-9,SR),\n",
    "                          wfg.pulse(pulse_amplitude,450e-9,SR))\n",
    "marker_acq = wfg.combine(wfg.delay(700e-9,SR),\n",
    "                         wfg.pulse(pulse_amplitude,200e-9,SR))\n",
    "plt.plot(wfg.time(waveform,SR)/1e-9,waveform)\n",
    "plt.plot(wfg.time(marker_gate,SR)/1e-9,marker_gate)\n",
    "plt.plot(wfg.time(marker_acq,SR)/1e-9,marker_acq)\n",
    "plt.show()"
   ]
  },
  {
   "cell_type": "markdown",
   "metadata": {},
   "source": [
    "Correct lengths of waveform and markers arrays:"
   ]
  },
  {
   "cell_type": "code",
   "execution_count": 4,
   "metadata": {},
   "outputs": [
    {
     "data": {
      "image/png": "[encoded data removed]",
      "text/plain": [
       "<matplotlib.figure.Figure at 0xdaa40b8>"
      ]
     },
     "metadata": {},
     "output_type": "display_data"
    }
   ],
   "source": [
    "waveform, marker_gate, marker_acq = wfg.length_correction(waveform, marker_gate, marker_acq)\n",
    "plt.plot(wfg.time(waveform,SR)/1e-9,waveform)\n",
    "plt.plot(wfg.time(marker_gate,SR)/1e-9,marker_gate)\n",
    "plt.plot(wfg.time(marker_acq,SR)/1e-9,marker_acq)\n",
    "plt.show()"
   ]
  },
  {
   "cell_type": "markdown",
   "metadata": {},
   "source": [
    "Generate a proper array of markers compatible with AWG:"
   ]
  },
  {
   "cell_type": "code",
   "execution_count": 16,
   "metadata": {},
   "outputs": [],
   "source": [
    "markersArray = awg.generate_MarkersArray(marker_gate,marker_acq,marker_acq)"
   ]
  },
  {
   "cell_type": "code",
   "execution_count": 17,
   "metadata": {},
   "outputs": [
    {
     "data": {
      "image/png": "[encoded data removed]",
      "text/plain": [
       "<matplotlib.figure.Figure at 0xf45f3c8>"
      ]
     },
     "metadata": {},
     "output_type": "display_data"
    }
   ],
   "source": [
    "plt.plot(wfg.time(waveform,SR)/1e-9, waveform)\n",
    "plt.plot(wfg.time(markersArray,SR)/1e-9,markersArray)\n",
    "plt.show()"
   ]
  },
  {
   "cell_type": "markdown",
   "metadata": {},
   "source": [
    "Sets Channel Parameters"
   ]
  },
  {
   "cell_type": "code",
   "execution_count": 18,
   "metadata": {},
   "outputs": [
    {
     "name": "stdout",
     "output_type": "stream",
     "text": [
      "Operation mode set to:  0\n",
      "KEY: 1 = burst, 0 = continuous\n",
      "Terminal Configuration set to:  0\n",
      "KEY: 1 = differential, 0 = single-ended\n"
     ]
    }
   ],
   "source": [
    "awg.ch1.SampleRate(SR)\n",
    "awg.ch1.OperationMode(0) # 0=continiuos 1=burst\n",
    "awg.ch1.TerminalConfiguration(0) # single-ended\n",
    "awg.ch1.Gain(0.4)\n",
    "awg.ch1.Offset(0)"
   ]
  },
  {
   "cell_type": "code",
   "execution_count": 19,
   "metadata": {},
   "outputs": [
    {
     "name": "stdout",
     "output_type": "stream",
     "text": [
      "ChannelMode =  0\n",
      "KEY: 1 = marker, 0 = waveform\n"
     ]
    },
    {
     "data": {
      "text/plain": [
       "0"
      ]
     },
     "execution_count": 19,
     "metadata": {},
     "output_type": "execute_result"
    }
   ],
   "source": [
    "awg.ch1.ChannelMode()"
   ]
  },
  {
   "cell_type": "markdown",
   "metadata": {},
   "source": [
    "Load waveform and markers:"
   ]
  },
  {
   "cell_type": "code",
   "execution_count": 20,
   "metadata": {},
   "outputs": [],
   "source": [
    "wf_name = ''\n",
    "awg.ch1.load_waveform(wf_name,waveform,markersArray)"
   ]
  },
  {
   "cell_type": "markdown",
   "metadata": {},
   "source": [
    "Channel initalization:"
   ]
  },
  {
   "cell_type": "code",
   "execution_count": 21,
   "metadata": {},
   "outputs": [],
   "source": [
    "awg.ch1.init_channel()"
   ]
  },
  {
   "cell_type": "markdown",
   "metadata": {},
   "source": [
    "Enable channel:"
   ]
  },
  {
   "cell_type": "code",
   "execution_count": 22,
   "metadata": {},
   "outputs": [],
   "source": [
    "awg.ch1.enable()"
   ]
  },
  {
   "cell_type": "markdown",
   "metadata": {},
   "source": [
    "Configure markers:"
   ]
  },
  {
   "cell_type": "code",
   "execution_count": 23,
   "metadata": {},
   "outputs": [
    {
     "name": "stdout",
     "output_type": "stream",
     "text": [
      "Destination bit of 16 corresponds to External1\n",
      "Destination bit of 17 corresponds to External2\n",
      "Destination bit of 18 corresponds PXI_TRIG0\n"
     ]
    }
   ],
   "source": [
    "awg.ch1.configure_markers()"
   ]
  },
  {
   "cell_type": "code",
   "execution_count": 24,
   "metadata": {},
   "outputs": [],
   "source": [
    "awg.ch1.BurstCount(1)"
   ]
  },
  {
   "cell_type": "markdown",
   "metadata": {},
   "source": [
    "Initiate generation:"
   ]
  },
  {
   "cell_type": "code",
   "execution_count": 25,
   "metadata": {},
   "outputs": [
    {
     "name": "stdout",
     "output_type": "stream",
     "text": [
      "Trying to initiate AWG generation.\n",
      "If the error \"The current pending state has 1 conflicts\" occures during generation initiating, try to reduce gain and/or offset values.\n"
     ]
    }
   ],
   "source": [
    "awg.ch1.initiate_generation()"
   ]
  },
  {
   "cell_type": "markdown",
   "metadata": {},
   "source": [
    "Abort generation:"
   ]
  },
  {
   "cell_type": "code",
   "execution_count": 26,
   "metadata": {},
   "outputs": [],
   "source": [
    "awg.ch1.abort_generation()"
   ]
  },
  {
   "cell_type": "code",
   "execution_count": 20,
   "metadata": {},
   "outputs": [],
   "source": [
    "awg.disconnect()"
   ]
  },
  {
   "cell_type": "code",
   "execution_count": 22,
   "metadata": {},
   "outputs": [],
   "source": [
    "awg.close()"
   ]
  },
  {
   "cell_type": "code",
   "execution_count": null,
   "metadata": {},
   "outputs": [],
   "source": []
  }
 ],
 "metadata": {
  "kernelspec": {
   "display_name": "Python 3",
   "language": "python",
   "name": "python3"
  },
  "language_info": {
   "codemirror_mode": {
    "name": "ipython",
    "version": 3
   },
   "file_extension": ".py",
   "mimetype": "text/x-python",
   "name": "python",
   "nbconvert_exporter": "python",
   "pygments_lexer": "ipython3",
   "version": "3.6.3"
  }
 },
 "nbformat": 4,
 "nbformat_minor": 2
}
