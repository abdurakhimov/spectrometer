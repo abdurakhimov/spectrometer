{
 "cells": [
  {
   "cell_type": "code",
   "execution_count": 1,
   "metadata": {},
   "outputs": [],
   "source": [
    "import matplotlib.pyplot as plt\n",
    "\n",
    "import numpy as np\n",
    "import qcodes as qc\n",
    "from time import time\n",
    "from qcodes.instrument_drivers.Keysight.M9203A import M9203A\n",
    "from qcodes.tests.instrument_mocks import DummyInstrument\n",
    "#from qcodes.instrument_drivers.rohde_schwarz.SGS100A import RohdeSchwarz_SGS100A"
   ]
  },
  {
   "cell_type": "markdown",
   "metadata": {},
   "source": [
    "Connect to the device:"
   ]
  },
  {
   "cell_type": "code",
   "execution_count": 2,
   "metadata": {},
   "outputs": [
    {
     "name": "stdout",
     "output_type": "stream",
     "text": [
      "Zoidberg2 Digitizer Specs:\n",
      "M9203A-LX2 Digital Processing Unit FPGA LX195T\n",
      "M9203A-F05 Bandwidth, 650 MHz maximum\n",
      "M9203A-DGT Digitizer Firmware\n",
      "M9203A-M02 Memory, 256MB, 64M Samples / ch\n",
      "M9203A-SR2 Maximum Sampling Rate, 1.6 GS/s per channel\n",
      "M9203A-CH2 Two Channels\n"
     ]
    }
   ],
   "source": [
    "dig = M9203A('dig', \"PXI20::0::0::INSTR\")\n",
    "dac = DummyInstrument(name=\"dac\", gates=['ch1', 'ch2'])  # The DAC voltage source\n",
    "\n",
    "# Finally, the instruments should be bound to a Station. Only instruments bound to the Station get recorded in the\n",
    "# measurement metadata, so your metadata is blind to any instrument not in the Station.\n",
    "station = qc.Station(dig)"
   ]
  },
  {
   "cell_type": "code",
   "execution_count": 3,
   "metadata": {},
   "outputs": [
    {
     "name": "stdout",
     "output_type": "stream",
     "text": [
      "dig:\n",
      "\tparameter               value\n",
      "--------------------------------------------------------------------------------\n",
      "IDN                      :\t{'vendor': None, 'model': 'dig', 'serial': None, '...\n",
      "IQ_data_averaged         :\tNone (('V', 'V', 's', 's'))\n",
      "IQ_data_raw              :\tNone (('V', 'V', 's', 's'))\n",
      "NumRecordsPerAcquisition :\t1 \n",
      "NumberOfAcquisitions     :\t1 \n",
      "NumberOfAverages         :\t1 \n",
      "RecordSize               :\t1024 (pts)\n",
      "SampleRate               :\t1e+08 (Hz)\n",
      "TimeOut                  :\t1 (s)\n",
      "TriggerLevel             :\t0 (V)\n",
      "TriggerType              :\tInternal1 \n",
      "dig_Channel1:\n",
      "\tparameter value\n",
      "--------------------------------------------------------------------------------\n",
      "offset :\t0 (V)\n",
      "range  :\t2 (V)\n",
      "dig_Channel2:\n",
      "\tparameter value\n",
      "--------------------------------------------------------------------------------\n",
      "offset :\t0 (V)\n",
      "range  :\t2 (V)\n"
     ]
    }
   ],
   "source": [
    "# Let's have a look at the available parameters \n",
    "dig.print_readable_snapshot(update=True)"
   ]
  },
  {
   "cell_type": "markdown",
   "metadata": {},
   "source": [
    "A list of all available parameters can be found in the following manner:"
   ]
  },
  {
   "cell_type": "code",
   "execution_count": 4,
   "metadata": {},
   "outputs": [
    {
     "name": "stdout",
     "output_type": "stream",
     "text": [
      "IDN :  IDN\n",
      "IQ_data_averaged :  ('I_out_av', 'Q_out_av', 'I_time', 'Q_time')\n",
      "IQ_data_raw :  ('I_out', 'Q_out', 'I_time', 'Q_time')\n",
      "NumRecordsPerAcquisition :  Number of Records\n",
      "NumberOfAcquisitions :  Number of Acquisitions\n",
      "NumberOfAverages :  Number of Averages\n",
      "RecordSize :  Number of Samples\n",
      "SampleRate :  Digitizer Sample Rate\n",
      "TimeOut :  Digitizer TimeOut\n",
      "TriggerLevel :  Digitizer Trigger Level\n",
      "TriggerType :  Digitizer Trigger Type\n"
     ]
    }
   ],
   "source": [
    "pars = np.sort(list(dig.parameters.keys()))\n",
    "for param in pars:\n",
    "    if type(dig.parameters[param]).__name__ == 'IQArray_raw':\n",
    "        print(param, ': ', dig.parameters[param].labels)\n",
    "    elif type(dig.parameters[param]).__name__ == 'IQArray_averaged':\n",
    "        print(param, ': ', dig.parameters[param].labels)\n",
    "    else:\n",
    "        print(param, ': ', dig.parameters[param].label)"
   ]
  },
  {
   "cell_type": "markdown",
   "metadata": {},
   "source": [
    "# Configure the acquisition trigger"
   ]
  },
  {
   "cell_type": "code",
   "execution_count": 5,
   "metadata": {},
   "outputs": [
    {
     "name": "stdout",
     "output_type": "stream",
     "text": [
      "Timeout value: 60\n"
     ]
    }
   ],
   "source": [
    "dig.TriggerType('External1') # set trigger type\n",
    "dig.TriggerLevel(0.5)        # set trigger level\n",
    "dig.TimeOut(60)\n",
    "print('Timeout value:', dig.TimeOut())                # read timeout value"
   ]
  },
  {
   "cell_type": "markdown",
   "metadata": {},
   "source": [
    "Check channel settings:"
   ]
  },
  {
   "cell_type": "code",
   "execution_count": 6,
   "metadata": {},
   "outputs": [
    {
     "name": "stdout",
     "output_type": "stream",
     "text": [
      "The location of the center of the range:  0.0\n",
      "The absolute value of the input range the digitizer can acquire for the channel:  2.0\n"
     ]
    }
   ],
   "source": [
    "print('The location of the center of the range: ',dig.Channel1.offset())\n",
    "print('The absolute value of the input range the digitizer can acquire for the channel: ',dig.Channel1.range())"
   ]
  },
  {
   "cell_type": "markdown",
   "metadata": {},
   "source": [
    "# Configure the acquisition"
   ]
  },
  {
   "cell_type": "code",
   "execution_count": 7,
   "metadata": {},
   "outputs": [
    {
     "name": "stdout",
     "output_type": "stream",
     "text": [
      "Record Size is set to  100000\n",
      "Sample Rate is set to 5.000000e+07 Hz\n",
      "Total number of records/averages (NumRecordsPerAcquisition x NumberOfAcquisitions):  1000\n"
     ]
    }
   ],
   "source": [
    "dig.NumRecordsPerAcquisition(100)      # Specifies the number of records in the acquisition.\n",
    "dig.RecordSize(10e4)                   # Specifies the number of samples in each record.\n",
    "dig.NumberOfAcquisitions(10)          # Specifies the number of acquistions\n",
    "\n",
    "# Specify the sample rate in samples per second. Should be 1.6e9/(2**n) (where n=0,...,5)\n",
    "dig.SampleRate(1.6e9/(2**5))\n",
    "\n",
    "print('Total number of records/averages (NumRecordsPerAcquisition x NumberOfAcquisitions): ',dig.NumberOfAverages())"
   ]
  },
  {
   "cell_type": "markdown",
   "metadata": {},
   "source": [
    "Calibrate the Instrument"
   ]
  },
  {
   "cell_type": "code",
   "execution_count": 8,
   "metadata": {},
   "outputs": [],
   "source": [
    "dig.SelfCalibrate()"
   ]
  },
  {
   "cell_type": "markdown",
   "metadata": {},
   "source": [
    "# Perform single/multi-record acquisition (TSR)"
   ]
  },
  {
   "cell_type": "code",
   "execution_count": 9,
   "metadata": {},
   "outputs": [
    {
     "name": "stdout",
     "output_type": "stream",
     "text": [
      "WARNING: NumRecordsPerAcquisition is not optimal. For optimal performance, use NumRecordsPerAcquisition <= 1 MB/RecordSize\n",
      "Fetching data...\n",
      "Number of Acquisitions:  10\n",
      "Number of Records Per Acquisition:  100\n",
      "**Number of Averages (= NumberOfAcquisitions x NumberOfRecordsPerAcquisition):  1000 **\n",
      "get() of \"IQArray_averaged\" was executed in 22.12457251548767 s\n",
      "If running QCoDes Measure() or Loop() function: Waiting for QCoDes to write the data to a file.\n"
     ]
    }
   ],
   "source": [
    "data = dig.IQ_data_averaged()"
   ]
  },
  {
   "cell_type": "code",
   "execution_count": 10,
   "metadata": {},
   "outputs": [
    {
     "name": "stdout",
     "output_type": "stream",
     "text": [
      "Fetching data...\n",
      "Number of Acquisitions:  1\n",
      "Number of Records Per Acquisition:  1\n",
      "get() of \"IQArray_raw\" was executed in 0.05520129203796387 s\n",
      "If running QCoDes Measure() or Loop() function: Waiting for QCoDes to write the data to a file.\n",
      "DataSet:\n",
      "   location = 'data/2018-08-01/#003_{name}_16-09-46'\n",
      "   <Type>   | <array_id>         | <array.name>   | <array.shape>\n",
      "   Setpoint | TimeQ_raw_npts_set | TimeQ_raw_npts | (100000,)\n",
      "   Measured | dig_I_data         | I_data         | (1, 100000)\n",
      "   Measured | dig_Q_data         | Q_data         | (1, 100000)\n",
      "   Measured | dig_I_time         | I_time         | (100000,)\n",
      "   Measured | dig_Q_time         | Q_time         | (100000,)\n",
      "acquired at 2018-08-01 16:09:50\n",
      "Time elapsed (s): 4.064016342163086\n"
     ]
    }
   ],
   "source": [
    "start_time = time()\n",
    "data = qc.Measure(dig.IQ_data_raw).run()\n",
    "print('Time elapsed (s):',time()-start_time)"
   ]
  },
  {
   "cell_type": "code",
   "execution_count": 10,
   "metadata": {},
   "outputs": [
    {
     "name": "stdout",
     "output_type": "stream",
     "text": [
      "WARNING: NumRecordsPerAcquisition is not optimal. For optimal performance, use NumRecordsPerAcquisition <= 1 MB/RecordSize\n",
      "Fetching data...\n",
      "Number of Acquisitions:  10\n",
      "Number of Records Per Acquisition:  100\n",
      "**Number of Averages (= NumberOfAcquisitions x NumberOfRecordsPerAcquisition):  1000 **\n",
      "get() of \"IQArray_averaged\" was executed in 21.456258058547974 s\n",
      "If running QCoDes Measure() or Loop() function: Waiting for QCoDes to write the data to a file.\n",
      "DataSet:\n",
      "   location = 'data/2018-08-01/#005_{name}_16-17-59'\n",
      "   <Type>   | <array_id>     | <array.name> | <array.shape>\n",
      "   Setpoint | TimeQ_npts_set | TimeQ_npts   | (100000,)\n",
      "   Measured | dig_I_data_av  | I_data_av    | (100000,)\n",
      "   Measured | dig_Q_data_av  | Q_data_av    | (100000,)\n",
      "   Measured | dig_I_time     | I_time       | (100000,)\n",
      "   Measured | dig_Q_time     | Q_time       | (100000,)\n",
      "acquired at 2018-08-01 16:18:24\n",
      "Time elapsed (s): 24.96566915512085\n"
     ]
    }
   ],
   "source": [
    "start_time = time()\n",
    "data = qc.Measure(dig.IQ_data_averaged).run()\n",
    "print('Time elapsed (s):',time()-start_time)"
   ]
  },
  {
   "cell_type": "code",
   "execution_count": 11,
   "metadata": {},
   "outputs": [
    {
     "data": {
      "image/png": "[encoded data removed]",
      "text/plain": [
       "<matplotlib.figure.Figure at 0xa9d4358>"
      ]
     },
     "metadata": {},
     "output_type": "display_data"
    }
   ],
   "source": [
    "plt.plot(data.dig_I_time,data.dig_I_data_av)\n",
    "plt.show()"
   ]
  },
  {
   "cell_type": "code",
   "execution_count": 10,
   "metadata": {},
   "outputs": [],
   "source": [
    "loop = qc.Loop(dac.ch1.sweep(0, 0.5, 0.1), delay=0.001).each(dig.IQ_data)\n",
    "data = loop.get_data_set(name='test')\n",
    "plot_1d = qc.QtPlot()  # create a plot\n",
    "plot_1d.add(data.dig_I_data[0])  # add a graph to the plot\n",
    "_ = loop.with_bg_task(plot_1d.update, plot_1d.save).run()  # run the loop\n",
    "plot_1d"
   ]
  },
  {
   "cell_type": "code",
   "execution_count": 15,
   "metadata": {},
   "outputs": [
    {
     "name": "stdout",
     "output_type": "stream",
     "text": [
      "The insrument instance is closed.\n"
     ]
    }
   ],
   "source": [
    "dig.disconnect()"
   ]
  },
  {
   "cell_type": "code",
   "execution_count": null,
   "metadata": {},
   "outputs": [],
   "source": []
  }
 ],
 "metadata": {
  "kernelspec": {
   "display_name": "Python 3",
   "language": "python",
   "name": "python3"
  },
  "language_info": {
   "codemirror_mode": {
    "name": "ipython",
    "version": 3
   },
   "file_extension": ".py",
   "mimetype": "text/x-python",
   "name": "python",
   "nbconvert_exporter": "python",
   "pygments_lexer": "ipython3",
   "version": "3.6.3"
  }
 },
 "nbformat": 4,
 "nbformat_minor": 2
}
